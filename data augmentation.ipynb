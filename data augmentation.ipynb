{
 "cells": [
  {
   "cell_type": "markdown",
   "id": "575ac282",
   "metadata": {},
   "source": [
    "\n",
    "Data augmentation é uma técnica comumente usada em aprendizado de máquina para aumentar a diversidade do conjunto de dados, ajudando a melhorar o desempenho e a generalização dos modelos. A ideia é aplicar transformações artificiais às imagens originais para criar novas amostras que mantenham as características essenciais dos dados originais."
   ]
  },
  {
   "cell_type": "code",
   "execution_count": 2,
   "id": "60b55cdc",
   "metadata": {},
   "outputs": [],
   "source": [
    "import cv2\n",
    "import numpy as np\n",
    "import imgaug.augmenters as iaa"
   ]
  },
  {
   "cell_type": "code",
   "execution_count": 3,
   "id": "ce0a4216",
   "metadata": {},
   "outputs": [],
   "source": [
    "# Carregar a imagem\n",
    "imagem = cv2.imread('B:/python/Imagens/imagem6.jpg')\n",
    "imagem = cv2.cvtColor(imagem, cv2.COLOR_BGR2RGB)"
   ]
  },
  {
   "cell_type": "code",
   "execution_count": 4,
   "id": "a6fbdf9c",
   "metadata": {},
   "outputs": [],
   "source": [
    "# Definir o aumentador com várias transformações\n",
    "augmentador = iaa.Sequential([\n",
    "    iaa.Affine(rotate=(-45, 45)),  # Rotações aleatórias de até ±45 graus\n",
    "    iaa.Affine(translate_percent={\"x\": (-0.1, 0.1), \"y\": (-0.1, 0.1)}),  # Deslocamentos horizontais e verticais aleatórios\n",
    "    iaa.AdditiveGaussianNoise(scale=0.1*255)  # Adição de ruído gaussiano\n",
    "])"
   ]
  },
  {
   "cell_type": "code",
   "execution_count": 5,
   "id": "8afaba91",
   "metadata": {},
   "outputs": [],
   "source": [
    "# Aplicar a aumentação à imagem\n",
    "imagem_aumentada = augmentador(image=imagem)"
   ]
  },
  {
   "cell_type": "code",
   "execution_count": 6,
   "id": "658803b1",
   "metadata": {},
   "outputs": [],
   "source": [
    "# Converter a imagem de volta para BGR para visualização com OpenCV\n",
    "imagem_aumentada_bgr = cv2.cvtColor(imagem_aumentada, cv2.COLOR_RGB2BGR)"
   ]
  },
  {
   "cell_type": "code",
   "execution_count": 7,
   "id": "786c08b9",
   "metadata": {},
   "outputs": [],
   "source": [
    "# Exibir a imagem original e a imagem aumentada\n",
    "cv2.imshow('Imagem Original', cv2.cvtColor(imagem, cv2.COLOR_RGB2BGR))\n",
    "cv2.imshow('Imagem Aumentada', imagem_aumentada_bgr)\n",
    "cv2.waitKey(0)\n",
    "cv2.destroyAllWindows()"
   ]
  },
  {
   "cell_type": "code",
   "execution_count": null,
   "id": "c1a275b1",
   "metadata": {},
   "outputs": [],
   "source": []
  }
 ],
 "metadata": {
  "kernelspec": {
   "display_name": "Python 3 (ipykernel)",
   "language": "python",
   "name": "python3"
  },
  "language_info": {
   "codemirror_mode": {
    "name": "ipython",
    "version": 3
   },
   "file_extension": ".py",
   "mimetype": "text/x-python",
   "name": "python",
   "nbconvert_exporter": "python",
   "pygments_lexer": "ipython3",
   "version": "3.11.5"
  }
 },
 "nbformat": 4,
 "nbformat_minor": 5
}
